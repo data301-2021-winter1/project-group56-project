{
 "cells": [
  {
   "cell_type": "markdown",
   "source": [
    "# Rhys Elliott"
   ],
   "metadata": {}
  },
  {
   "cell_type": "markdown",
   "source": [
    "## Research question/interests\r\n",
    "\r\n",
    "One of the most important aspects of the NHL is the physicality of it.  The number of hits and penalties in minutes for both players and teams will be used to determine whether being more physical results in more victories." 
   "metadata": {}
  }
 ],
 "metadata": {
  "orig_nbformat": 4,
  "language_info": {
   "name": "plaintext"
  }
 },
 "nbformat": 4,
 "nbformat_minor": 2
}
