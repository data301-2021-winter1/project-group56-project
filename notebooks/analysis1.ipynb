{
 "cells": [
  {
   "cell_type": "markdown",
   "source": [
    "Rhys Elliott"
   ],
   "metadata": {}
  },
  {
   "cell_type": "markdown",
   "source": [
    "## Research question/interests\r\n",
    "\r\n",
    "The primary statistics studied for goalies are often goals and shots against.  It would be interesting to determine what effect they have on offensive goals in terms of how many they score, how many they assist or whether it contributed to a victory over their opponent."
   ],
   "metadata": {}
  }
 ],
 "metadata": {
  "orig_nbformat": 4,
  "language_info": {
   "name": "plaintext"
  }
 },
 "nbformat": 4,
 "nbformat_minor": 2
}
